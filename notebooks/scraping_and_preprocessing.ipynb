{
 "cells": [
  {
   "cell_type": "code",
   "execution_count": 1,
   "id": "cfd1feed-1473-4675-92e3-0106e6640041",
   "metadata": {},
   "outputs": [
    {
     "name": "stdout",
     "output_type": "stream",
     "text": [
      "Project root: D:\\GitHub\\fintech-app-analytics-week2\n"
     ]
    }
   ],
   "source": [
    "import sys\n",
    "import os\n",
    "\n",
    "# Get the current working directory\n",
    "current_dir = os.getcwd()\n",
    "\n",
    "# Add the project root directory to the Python path\n",
    "project_root = os.path.abspath(os.path.join(current_dir, '..'))\n",
    "sys.path.insert(0, project_root)\n",
    "\n",
    "# Print the project root to verify\n",
    "print(f\"Project root: {project_root}\")"
   ]
  },
  {
   "cell_type": "code",
   "execution_count": 5,
   "id": "4cfd432a-9c86-4983-90aa-7e6ea7cb90fb",
   "metadata": {},
   "outputs": [],
   "source": [
    "from src.Preprocessing.play_store_scraper import PlayStoreScraper\n",
    "\n",
    "# Initialize the PlayStoreScraper for each bank\n",
    "CBE_scraper = PlayStoreScraper(app_name='CBE', app_id='com.combanketh.mobilebanking')\n",
    "BOA_scraper = PlayStoreScraper(app_name='BOA', app_id='com.boa.boaMobileBanking')\n",
    "Dashen_scraper = PlayStoreScraper(app_name='Dashen', app_id='com.dashen.dashensuperapp')"
   ]
  },
  {
   "cell_type": "code",
   "execution_count": null,
   "id": "c3ecc5b7-1905-4bb4-a91b-0f33df57f3cb",
   "metadata": {},
   "outputs": [],
   "source": []
  }
 ],
 "metadata": {
  "kernelspec": {
   "display_name": "Python 3 (ipykernel)",
   "language": "python",
   "name": "python3"
  },
  "language_info": {
   "codemirror_mode": {
    "name": "ipython",
    "version": 3
   },
   "file_extension": ".py",
   "mimetype": "text/x-python",
   "name": "python",
   "nbconvert_exporter": "python",
   "pygments_lexer": "ipython3",
   "version": "3.12.7"
  }
 },
 "nbformat": 4,
 "nbformat_minor": 5
}
